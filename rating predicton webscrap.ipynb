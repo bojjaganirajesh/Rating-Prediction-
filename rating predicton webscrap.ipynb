{
 "cells": [
  {
   "cell_type": "markdown",
   "id": "45fa9ec9",
   "metadata": {},
   "source": [
    "Web Scraping for Rating Review Prediction Project\n",
    "By: B.RAJESH\n",
    "\n",
    "Batch : Internship 1841\n",
    "\n",
    "Web Scraping details:\n",
    "Data for this project is Scrap from Amazon & Flipkart.\n",
    "Around 50000 Reviews are scrap for this project.\n",
    "Part 1 - Scraping data from Amazon.in\n",
    "Part 2 - Scraping data from flipkart"
   ]
  },
  {
   "cell_type": "code",
   "execution_count": 31,
   "id": "7134d011",
   "metadata": {},
   "outputs": [],
   "source": [
    "#Importing required libraries\n",
    "\n",
    "import pandas as pd\n",
    "import selenium\n",
    "from selenium import webdriver\n",
    "from selenium.common.exceptions import NoSuchElementException , StaleElementReferenceException\n",
    "import time\n",
    "import warnings\n",
    "warnings.filterwarnings('ignore')\n"
   ]
  },
  {
   "cell_type": "markdown",
   "id": "6c11d29a",
   "metadata": {},
   "source": [
    "# Part 1- Scrapping data from Amazon\n",
    "1.1.Headphones"
   ]
  },
  {
   "cell_type": "code",
   "execution_count": 33,
   "id": "432c5570",
   "metadata": {},
   "outputs": [],
   "source": [
    "\n",
    "# Creating an instance of webdriver for google chrome\n",
    "\n",
    "driver =webdriver.Chrome(r\"C:\\Users\\hamsa\\AppData\\Local\\Temp\\Temp3_chromedriver_win32.zip\\chromedriver.exe\")\n"
   ]
  },
  {
   "cell_type": "code",
   "execution_count": 35,
   "id": "f2777703",
   "metadata": {},
   "outputs": [],
   "source": [
    "# Opening the Amazon.in\n",
    "driver.get('https://www.amazon.in/')"
   ]
  },
  {
   "cell_type": "code",
   "execution_count": 37,
   "id": "6c49075c",
   "metadata": {},
   "outputs": [
    {
     "ename": "NoSuchElementException",
     "evalue": "Message: no such element: Unable to locate element: {\"method\":\"css selector\",\"selector\":\"[id=\"twotabsearchtextbox\"]\"}\n  (Session info: chrome=105.0.5195.127)\nStacktrace:\nBacktrace:\n\tOrdinal0 [0x00E7DF13+2219795]\n\tOrdinal0 [0x00E12841+1779777]\n\tOrdinal0 [0x00D2423D+803389]\n\tOrdinal0 [0x00D53025+995365]\n\tOrdinal0 [0x00D531EB+995819]\n\tOrdinal0 [0x00D80F52+1183570]\n\tOrdinal0 [0x00D6E844+1108036]\n\tOrdinal0 [0x00D7F192+1175954]\n\tOrdinal0 [0x00D6E616+1107478]\n\tOrdinal0 [0x00D47F89+950153]\n\tOrdinal0 [0x00D48F56+954198]\n\tGetHandleVerifier [0x01172CB2+3040210]\n\tGetHandleVerifier [0x01162BB4+2974420]\n\tGetHandleVerifier [0x00F16A0A+565546]\n\tGetHandleVerifier [0x00F15680+560544]\n\tOrdinal0 [0x00E19A5C+1808988]\n\tOrdinal0 [0x00E1E3A8+1827752]\n\tOrdinal0 [0x00E1E495+1827989]\n\tOrdinal0 [0x00E280A4+1867940]\n\tBaseThreadInitThunk [0x76206739+25]\n\tRtlGetFullPathName_UEx [0x77A68FD2+1218]\n\tRtlGetFullPathName_UEx [0x77A68F9D+1165]\n",
     "output_type": "error",
     "traceback": [
      "\u001b[1;31m---------------------------------------------------------------------------\u001b[0m",
      "\u001b[1;31mNoSuchElementException\u001b[0m                    Traceback (most recent call last)",
      "\u001b[1;32m~\\AppData\\Local\\Temp/ipykernel_26940/1911692016.py\u001b[0m in \u001b[0;36m<module>\u001b[1;34m\u001b[0m\n\u001b[0;32m      1\u001b[0m \u001b[1;31m# Searching headphones in the search bar and clicking the search button\u001b[0m\u001b[1;33m\u001b[0m\u001b[1;33m\u001b[0m\u001b[0m\n\u001b[1;32m----> 2\u001b[1;33m \u001b[0msearch_bar\u001b[0m\u001b[1;33m=\u001b[0m\u001b[0mdriver\u001b[0m\u001b[1;33m.\u001b[0m\u001b[0mfind_element_by_id\u001b[0m\u001b[1;33m(\u001b[0m\u001b[1;34m'twotabsearchtextbox'\u001b[0m\u001b[1;33m)\u001b[0m\u001b[1;33m\u001b[0m\u001b[1;33m\u001b[0m\u001b[0m\n\u001b[0m\u001b[0;32m      3\u001b[0m \u001b[0msearch_bar\u001b[0m\u001b[1;33m.\u001b[0m\u001b[0msend_keys\u001b[0m\u001b[1;33m(\u001b[0m\u001b[1;34m\"headphones\"\u001b[0m\u001b[1;33m)\u001b[0m\u001b[1;33m\u001b[0m\u001b[1;33m\u001b[0m\u001b[0m\n\u001b[0;32m      4\u001b[0m \u001b[0mdriver\u001b[0m\u001b[1;33m.\u001b[0m\u001b[0mfind_element_by_id\u001b[0m\u001b[1;33m(\u001b[0m\u001b[1;34m'nav-search-submit-button'\u001b[0m\u001b[1;33m)\u001b[0m\u001b[1;33m.\u001b[0m\u001b[0mclick\u001b[0m\u001b[1;33m(\u001b[0m\u001b[1;33m)\u001b[0m\u001b[1;33m\u001b[0m\u001b[1;33m\u001b[0m\u001b[0m\n",
      "\u001b[1;32mC:\\ProgramData\\Anaconda3\\lib\\site-packages\\selenium\\webdriver\\remote\\webdriver.py\u001b[0m in \u001b[0;36mfind_element_by_id\u001b[1;34m(self, id_)\u001b[0m\n\u001b[0;32m    476\u001b[0m             \u001b[0mstacklevel\u001b[0m\u001b[1;33m=\u001b[0m\u001b[1;36m2\u001b[0m\u001b[1;33m,\u001b[0m\u001b[1;33m\u001b[0m\u001b[1;33m\u001b[0m\u001b[0m\n\u001b[0;32m    477\u001b[0m         )\n\u001b[1;32m--> 478\u001b[1;33m         \u001b[1;32mreturn\u001b[0m \u001b[0mself\u001b[0m\u001b[1;33m.\u001b[0m\u001b[0mfind_element\u001b[0m\u001b[1;33m(\u001b[0m\u001b[0mby\u001b[0m\u001b[1;33m=\u001b[0m\u001b[0mBy\u001b[0m\u001b[1;33m.\u001b[0m\u001b[0mID\u001b[0m\u001b[1;33m,\u001b[0m \u001b[0mvalue\u001b[0m\u001b[1;33m=\u001b[0m\u001b[0mid_\u001b[0m\u001b[1;33m)\u001b[0m\u001b[1;33m\u001b[0m\u001b[1;33m\u001b[0m\u001b[0m\n\u001b[0m\u001b[0;32m    479\u001b[0m \u001b[1;33m\u001b[0m\u001b[0m\n\u001b[0;32m    480\u001b[0m     \u001b[1;32mdef\u001b[0m \u001b[0mfind_elements_by_id\u001b[0m\u001b[1;33m(\u001b[0m\u001b[0mself\u001b[0m\u001b[1;33m,\u001b[0m \u001b[0mid_\u001b[0m\u001b[1;33m)\u001b[0m \u001b[1;33m->\u001b[0m \u001b[0mList\u001b[0m\u001b[1;33m[\u001b[0m\u001b[0mWebElement\u001b[0m\u001b[1;33m]\u001b[0m\u001b[1;33m:\u001b[0m\u001b[1;33m\u001b[0m\u001b[1;33m\u001b[0m\u001b[0m\n",
      "\u001b[1;32mC:\\ProgramData\\Anaconda3\\lib\\site-packages\\selenium\\webdriver\\remote\\webdriver.py\u001b[0m in \u001b[0;36mfind_element\u001b[1;34m(self, by, value)\u001b[0m\n\u001b[0;32m   1249\u001b[0m             \u001b[0mvalue\u001b[0m \u001b[1;33m=\u001b[0m \u001b[1;34m'[name=\"%s\"]'\u001b[0m \u001b[1;33m%\u001b[0m \u001b[0mvalue\u001b[0m\u001b[1;33m\u001b[0m\u001b[1;33m\u001b[0m\u001b[0m\n\u001b[0;32m   1250\u001b[0m \u001b[1;33m\u001b[0m\u001b[0m\n\u001b[1;32m-> 1251\u001b[1;33m         return self.execute(Command.FIND_ELEMENT, {\n\u001b[0m\u001b[0;32m   1252\u001b[0m             \u001b[1;34m'using'\u001b[0m\u001b[1;33m:\u001b[0m \u001b[0mby\u001b[0m\u001b[1;33m,\u001b[0m\u001b[1;33m\u001b[0m\u001b[1;33m\u001b[0m\u001b[0m\n\u001b[0;32m   1253\u001b[0m             'value': value})['value']\n",
      "\u001b[1;32mC:\\ProgramData\\Anaconda3\\lib\\site-packages\\selenium\\webdriver\\remote\\webdriver.py\u001b[0m in \u001b[0;36mexecute\u001b[1;34m(self, driver_command, params)\u001b[0m\n\u001b[0;32m    428\u001b[0m         \u001b[0mresponse\u001b[0m \u001b[1;33m=\u001b[0m \u001b[0mself\u001b[0m\u001b[1;33m.\u001b[0m\u001b[0mcommand_executor\u001b[0m\u001b[1;33m.\u001b[0m\u001b[0mexecute\u001b[0m\u001b[1;33m(\u001b[0m\u001b[0mdriver_command\u001b[0m\u001b[1;33m,\u001b[0m \u001b[0mparams\u001b[0m\u001b[1;33m)\u001b[0m\u001b[1;33m\u001b[0m\u001b[1;33m\u001b[0m\u001b[0m\n\u001b[0;32m    429\u001b[0m         \u001b[1;32mif\u001b[0m \u001b[0mresponse\u001b[0m\u001b[1;33m:\u001b[0m\u001b[1;33m\u001b[0m\u001b[1;33m\u001b[0m\u001b[0m\n\u001b[1;32m--> 430\u001b[1;33m             \u001b[0mself\u001b[0m\u001b[1;33m.\u001b[0m\u001b[0merror_handler\u001b[0m\u001b[1;33m.\u001b[0m\u001b[0mcheck_response\u001b[0m\u001b[1;33m(\u001b[0m\u001b[0mresponse\u001b[0m\u001b[1;33m)\u001b[0m\u001b[1;33m\u001b[0m\u001b[1;33m\u001b[0m\u001b[0m\n\u001b[0m\u001b[0;32m    431\u001b[0m             response['value'] = self._unwrap_value(\n\u001b[0;32m    432\u001b[0m                 response.get('value', None))\n",
      "\u001b[1;32mC:\\ProgramData\\Anaconda3\\lib\\site-packages\\selenium\\webdriver\\remote\\errorhandler.py\u001b[0m in \u001b[0;36mcheck_response\u001b[1;34m(self, response)\u001b[0m\n\u001b[0;32m    245\u001b[0m                 \u001b[0malert_text\u001b[0m \u001b[1;33m=\u001b[0m \u001b[0mvalue\u001b[0m\u001b[1;33m[\u001b[0m\u001b[1;34m'alert'\u001b[0m\u001b[1;33m]\u001b[0m\u001b[1;33m.\u001b[0m\u001b[0mget\u001b[0m\u001b[1;33m(\u001b[0m\u001b[1;34m'text'\u001b[0m\u001b[1;33m)\u001b[0m\u001b[1;33m\u001b[0m\u001b[1;33m\u001b[0m\u001b[0m\n\u001b[0;32m    246\u001b[0m             \u001b[1;32mraise\u001b[0m \u001b[0mexception_class\u001b[0m\u001b[1;33m(\u001b[0m\u001b[0mmessage\u001b[0m\u001b[1;33m,\u001b[0m \u001b[0mscreen\u001b[0m\u001b[1;33m,\u001b[0m \u001b[0mstacktrace\u001b[0m\u001b[1;33m,\u001b[0m \u001b[0malert_text\u001b[0m\u001b[1;33m)\u001b[0m  \u001b[1;31m# type: ignore[call-arg]  # mypy is not smart enough here\u001b[0m\u001b[1;33m\u001b[0m\u001b[1;33m\u001b[0m\u001b[0m\n\u001b[1;32m--> 247\u001b[1;33m         \u001b[1;32mraise\u001b[0m \u001b[0mexception_class\u001b[0m\u001b[1;33m(\u001b[0m\u001b[0mmessage\u001b[0m\u001b[1;33m,\u001b[0m \u001b[0mscreen\u001b[0m\u001b[1;33m,\u001b[0m \u001b[0mstacktrace\u001b[0m\u001b[1;33m)\u001b[0m\u001b[1;33m\u001b[0m\u001b[1;33m\u001b[0m\u001b[0m\n\u001b[0m\u001b[0;32m    248\u001b[0m \u001b[1;33m\u001b[0m\u001b[0m\n\u001b[0;32m    249\u001b[0m     \u001b[1;32mdef\u001b[0m \u001b[0m_value_or_default\u001b[0m\u001b[1;33m(\u001b[0m\u001b[0mself\u001b[0m\u001b[1;33m,\u001b[0m \u001b[0mobj\u001b[0m\u001b[1;33m:\u001b[0m \u001b[0mMapping\u001b[0m\u001b[1;33m[\u001b[0m\u001b[0m_KT\u001b[0m\u001b[1;33m,\u001b[0m \u001b[0m_VT\u001b[0m\u001b[1;33m]\u001b[0m\u001b[1;33m,\u001b[0m \u001b[0mkey\u001b[0m\u001b[1;33m:\u001b[0m \u001b[0m_KT\u001b[0m\u001b[1;33m,\u001b[0m \u001b[0mdefault\u001b[0m\u001b[1;33m:\u001b[0m \u001b[0m_VT\u001b[0m\u001b[1;33m)\u001b[0m \u001b[1;33m->\u001b[0m \u001b[0m_VT\u001b[0m\u001b[1;33m:\u001b[0m\u001b[1;33m\u001b[0m\u001b[1;33m\u001b[0m\u001b[0m\n",
      "\u001b[1;31mNoSuchElementException\u001b[0m: Message: no such element: Unable to locate element: {\"method\":\"css selector\",\"selector\":\"[id=\"twotabsearchtextbox\"]\"}\n  (Session info: chrome=105.0.5195.127)\nStacktrace:\nBacktrace:\n\tOrdinal0 [0x00E7DF13+2219795]\n\tOrdinal0 [0x00E12841+1779777]\n\tOrdinal0 [0x00D2423D+803389]\n\tOrdinal0 [0x00D53025+995365]\n\tOrdinal0 [0x00D531EB+995819]\n\tOrdinal0 [0x00D80F52+1183570]\n\tOrdinal0 [0x00D6E844+1108036]\n\tOrdinal0 [0x00D7F192+1175954]\n\tOrdinal0 [0x00D6E616+1107478]\n\tOrdinal0 [0x00D47F89+950153]\n\tOrdinal0 [0x00D48F56+954198]\n\tGetHandleVerifier [0x01172CB2+3040210]\n\tGetHandleVerifier [0x01162BB4+2974420]\n\tGetHandleVerifier [0x00F16A0A+565546]\n\tGetHandleVerifier [0x00F15680+560544]\n\tOrdinal0 [0x00E19A5C+1808988]\n\tOrdinal0 [0x00E1E3A8+1827752]\n\tOrdinal0 [0x00E1E495+1827989]\n\tOrdinal0 [0x00E280A4+1867940]\n\tBaseThreadInitThunk [0x76206739+25]\n\tRtlGetFullPathName_UEx [0x77A68FD2+1218]\n\tRtlGetFullPathName_UEx [0x77A68F9D+1165]\n"
     ]
    }
   ],
   "source": [
    "# Searching headphones in the search bar and clicking the search button\n",
    "search_bar=driver.find_element_by_id('twotabsearchtextbox')\n",
    "search_bar.send_keys(\"headphones\")\n",
    "driver.find_element_by_id('nav-search-submit-button').click()"
   ]
  },
  {
   "cell_type": "code",
   "execution_count": null,
   "id": "61779647",
   "metadata": {},
   "outputs": [],
   "source": [
    "# Creating empty lists\n",
    "Product_URL=[]\n",
    "Ratings=[]\n",
    "Review=[]\n",
    "\n",
    "#Getting URLs of the product\n",
    "for i in range(1,4):\n",
    "    URL = driver.find_elements_by_xpath(\"//div[@class='a-section a-spacing-medium']/div[2]/div[2]/div/div/h2/a\")\n",
    "    for i in URL:\n",
    "        Product_URL.append(i.get_attribute('href'))\n",
    "      \n",
    "    try:\n",
    "        next_btn=driver.find_element_by_xpath(\"//li[@class='a-last']/a\").click()\n",
    "    except NoSuchElementException:\n",
    "        pass\n",
    "    \n",
    "for i in Product_URL:\n",
    "    driver.get(i)\n",
    "    \n",
    "    # Clicking the rating\n",
    "    try:\n",
    "        driver.find_element_by_xpath(\"//a[1][@id='acrCustomerReviewLink']\").Click()\n",
    "    except NoSuchElementException:\n",
    "        print(\"No rating\")\n",
    "        pass\n",
    "    \n",
    "    #Clicking to see all reviews\n",
    "    try:\n",
    "        driver.find_element_by_xpath(\"//a[@class='a-link-emphasis a-text-bold']\").click()\n",
    "    except NoSuchElementException:\n",
    "        pass\n",
    "    \n",
    "    #Scrapping the details\n",
    "    Start_page=1\n",
    "    End_page=50\n",
    "    for page in range(Start_page,End_page+1):\n",
    "        try:\n",
    "            Reviews=driver.find_elements_by_xpath(\"//div[@class='a-row a-spacing-small review-data']/span/span\")\n",
    "            for r in Reviews:\n",
    "                Review.append(r.text.replace('\\n',''))\n",
    "        except NoSuchElementException:\n",
    "            Review.append(\"Not Available\")\n",
    "        try:\n",
    "            Rating=driver.find_elements_by_xpath(\"//div[@class='a-section celwidget']/div[2]/a[1]\")\n",
    "            for i in Rating:\n",
    "                rating=i.get_attribute('title')\n",
    "                Ratings.append(rating[:3])\n",
    "        except NoSuchElementException:\n",
    "            Ratings.append(\"Not available\")      \n",
    "        \n",
    "        #Looping for going to next page automatically\n",
    "        try:\n",
    "            next_page=driver.find_element_by_xpath(\"//div[@id='cm_cr-pagination_bar']/ul/li[2]/a\")\n",
    "            if next_page.text=='Next Page':\n",
    "                next_page.click()\n",
    "                time.sleep(2)\n",
    "        except NoSuchElementException:\n",
    "            pass"
   ]
  },
  {
   "cell_type": "code",
   "execution_count": null,
   "id": "352c9dc6",
   "metadata": {},
   "outputs": [],
   "source": [
    "\n",
    "print(len(Ratings),len(Review),len(Product_URL))"
   ]
  },
  {
   "cell_type": "markdown",
   "id": "531e0220",
   "metadata": {},
   "source": [
    "## Saving in dataframe\n",
    "\n",
    "headphones=pd.DataFrame({'Product_Review':Review[:0],'Ratings':Ratings[:0]})"
   ]
  },
  {
   "cell_type": "markdown",
   "id": "799c4641",
   "metadata": {},
   "source": [
    "# 1.2.Laptops"
   ]
  },
  {
   "cell_type": "code",
   "execution_count": null,
   "id": "2442c5cb",
   "metadata": {},
   "outputs": [],
   "source": [
    "# Getting the website to driver\n",
    "driver.get('https://www.amazon.in/')"
   ]
  },
  {
   "cell_type": "code",
   "execution_count": null,
   "id": "b07bdd96",
   "metadata": {},
   "outputs": [],
   "source": [
    "# Searching laptops in the search bar and clicking the search button\n",
    "search_bar=driver.find_element_by_id('twotabsearchtextbox')\n",
    "search_bar.send_keys(\"laptops\")\n",
    "driver.find_element_by_id('nav-search-submit-button').click()"
   ]
  },
  {
   "cell_type": "code",
   "execution_count": null,
   "id": "bfc703c8",
   "metadata": {},
   "outputs": [],
   "source": [
    "#Creating empty lists\n",
    "Product_URL=[]\n",
    "Review=[]\n",
    "\n",
    "#Getting URLs of the product\n",
    "for i in range(1,4):\n",
    "    URL = driver.find_elements_by_xpath(\"//div[@class='a-section a-spacing-medium']/div[2]/div[2]/div/div/h2/a\")\n",
    "    for i in URL:\n",
    "        Product_URL.append(i.get_attribute('href'))\n",
    "    try:\n",
    "        next_btn=driver.find_element_by_xpath(\"//li[@class='a-last']/a\").click()\n",
    "    except NoSuchElementException:\n",
    "        pass\n",
    "    \n",
    "for i in Product_URL:\n",
    "    driver.get(i)\n",
    "    \n",
    "    #Clicking the rating\n",
    "    try:\n",
    "        driver.find_element_by_xpath(\"//a[1][@id='acrCustomerReviewLink']\").click()\n",
    "    except NoSuchElementException:\n",
    "        print(\"No rating\")\n",
    "        pass\n",
    "    \n",
    "    #Clicking to see all reviews\n",
    "    try:\n",
    "        driver.find_element_by_xpath(\"//a[@class='a-link-emphasis a-text-bold']\").click()\n",
    "    except NoSuchElementException:\n",
    "        pass\n",
    "    \n",
    "    #Scrapping the details\n",
    "    Start_page=1\n",
    "    End_page=80\n",
    "    for page in range(Start_page,End_page+1):\n",
    "        try:\n",
    "            Reviews=driver.find_elements_by_xpath(\"//div[@class='a-row a-spacing-small review-data']/span/span\")\n",
    "            for r in Reviews:\n",
    "                Review.append(r.text.replace('\\n',''))\n",
    "        except NoSuchElementException:\n",
    "            Review.append(\"Not Available\")\n",
    "        try:\n",
    "            Rating=driver.find_elements_by_xpath(\"//div[@class='a-section celwidget']/div[2]/a[1]\")\n",
    "            for i in Rating:\n",
    "                rating=i.get_attribute('title')\n",
    "                Ratings.append(rating[:3])\n",
    "        except NoSuchElementException:\n",
    "            Ratings.append(\"Not available\")      \n",
    "                   \n",
    "        # Looping for going to next page automatically\n",
    "        try:\n",
    "            next_page=driver.find_element_by_xpath(\"//div[@id='cm_cr-pagination_bar']/ul/li[2]/a\")\n",
    "            if next_page.text=='Next Page':\n",
    "                next_page.click()\n",
    "                time.sleep(2)\n",
    "        except NoSuchElementException:\n",
    "            pass"
   ]
  },
  {
   "cell_type": "code",
   "execution_count": null,
   "id": "0e0569ee",
   "metadata": {},
   "outputs": [],
   "source": [
    "# Checking the length of data extracted\n",
    "print(len(Review),len(Ratings))"
   ]
  },
  {
   "cell_type": "code",
   "execution_count": null,
   "id": "17677f3c",
   "metadata": {},
   "outputs": [],
   "source": [
    "#Saving in dataframe\n",
    "laptops=pd.DataFrame({'Product_Review':Review[:11000],'Ratings':Ratings[:11000]})"
   ]
  },
  {
   "cell_type": "markdown",
   "id": "30a1e3c0",
   "metadata": {},
   "source": [
    "# 1.3.Camera"
   ]
  },
  {
   "cell_type": "code",
   "execution_count": null,
   "id": "8a9b85ad",
   "metadata": {},
   "outputs": [],
   "source": [
    "# Getting the website to driver\n",
    "driver.get('https://www.amazon.in/')\n"
   ]
  },
  {
   "cell_type": "code",
   "execution_count": null,
   "id": "11cb0b39",
   "metadata": {},
   "outputs": [],
   "source": [
    "#Searching dslr in the search bar and clicking the search button\n",
    "search_bar=driver.find_element_by_id('twotabsearchtextbox')\n",
    "search_bar.send_keys(\"dslr\")\n",
    "driver.find_element_by_id('nav-search-submit-button').click()"
   ]
  },
  {
   "cell_type": "code",
   "execution_count": null,
   "id": "e67a01ee",
   "metadata": {},
   "outputs": [],
   "source": [
    "\n",
    "#Creating empty lists\n",
    "Product_URL=[]\n",
    "Ratings=[]\n",
    "Review=[]\n",
    "\n",
    "#Getting URLs of the product\n",
    "for i in range(1,4):\n",
    "    URL = driver.find_elements_by_xpath(\"//div[@class='a-section a-spacing-medium']/div[2]/div[2]/div/div/h2/a\")\n",
    "    for i in URL:\n",
    "        Product_URL.append(i.get_attribute('href'))\n",
    "    try:\n",
    "        next_btn=driver.find_element_by_xpath(\"//li[@class='a-last']/a\").click()\n",
    "    except NoSuchElementException:\n",
    "        pass\n",
    "    \n",
    "for i in Product_URL:\n",
    "    driver.get(i)\n",
    "    \n",
    "    #Clicking the rating\n",
    "    try:\n",
    "        driver.find_element_by_xpath(\"//a[1][@id='acrCustomerReviewLink']\").click()\n",
    "    except NoSuchElementException:\n",
    "        print(\"No rating\")\n",
    "        pass\n",
    "    \n",
    "    #Clicking to see all reviews\n",
    "    try:\n",
    "        driver.find_element_by_xpath(\"//a[@class='a-link-emphasis a-text-bold']\").click()\n",
    "    except NoSuchElementException:\n",
    "        pass\n",
    "    \n",
    "    #Scrapping the details\n",
    "    Start_page=1\n",
    "    End_page=100\n",
    "    for page in range(Start_page,End_page+1):\n",
    "        try:\n",
    "            Reviews=driver.find_elements_by_xpath(\"//div[@class='a-row a-spacing-small review-data']/span/span\")\n",
    "            for r in Reviews:\n",
    "                Review.append(r.text.replace('\\n',''))\n",
    "        except NoSuchElementException:\n",
    "            Review.append(\"Not Available\")\n",
    "        try:\n",
    "            Rating=driver.find_elements_by_xpath(\"//div[@class='a-section celwidget']/div[2]/a[1]\")\n",
    "            for i in Rating:\n",
    "                rating=i.get_attribute('title')\n",
    "                Ratings.append(rating[:3])\n",
    "        except NoSuchElementException:\n",
    "            Ratings.append(\"Not available\")      \n",
    "          \n",
    "        #Looping for going to next page automatically\n",
    "        try:\n",
    "            next_page=driver.find_element_by_xpath(\"//div[@id='cm_cr-pagination_bar']/ul/li[2]/a\")\n",
    "            if next_page.text=='Next Page':\n",
    "                next_page.click()\n",
    "                time.sleep(2)\n",
    "        except NoSuchElementException:\n",
    "            pass"
   ]
  },
  {
   "cell_type": "code",
   "execution_count": null,
   "id": "ab063f36",
   "metadata": {},
   "outputs": [],
   "source": [
    "#Checking the length of data extracted\n",
    "print(len(Review),len(Ratings))"
   ]
  },
  {
   "cell_type": "code",
   "execution_count": null,
   "id": "60881e02",
   "metadata": {},
   "outputs": [],
   "source": [
    "#Saving in dataframe\n",
    "camera=pd.DataFrame({'Product_Review':Review[:10000],'Ratings':Ratings[:10000]})"
   ]
  },
  {
   "cell_type": "markdown",
   "id": "2e09efc8",
   "metadata": {},
   "source": [
    "# 1.4.Smartphones"
   ]
  },
  {
   "cell_type": "code",
   "execution_count": null,
   "id": "e9784ecb",
   "metadata": {},
   "outputs": [],
   "source": [
    "#Getting the website to driver\n",
    "driver.get('https://www.amazon.in/')"
   ]
  },
  {
   "cell_type": "code",
   "execution_count": null,
   "id": "76355a28",
   "metadata": {},
   "outputs": [],
   "source": [
    "#Searching phones in the search bar and clicking the search button\n",
    "search_bar=driver.find_element_by_id('twotabsearchtextbox')\n",
    "search_bar.send_keys(\"phones\")\n",
    "driver.find_element_by_id('nav-search-submit-button').click()"
   ]
  },
  {
   "cell_type": "code",
   "execution_count": null,
   "id": "cb863d8f",
   "metadata": {},
   "outputs": [],
   "source": []
  },
  {
   "cell_type": "code",
   "execution_count": null,
   "id": "60f81ed7",
   "metadata": {},
   "outputs": [],
   "source": [
    "#Checking the length of data extracted\n",
    "print(len(Review),len(Ratings))\n"
   ]
  },
  {
   "cell_type": "code",
   "execution_count": null,
   "id": "baef8784",
   "metadata": {},
   "outputs": [],
   "source": [
    "#Saving in dataframe\n",
    "phones=pd.DataFrame({'Product_Review':Review[:10000],'Ratings':Ratings[:10000]})"
   ]
  },
  {
   "cell_type": "code",
   "execution_count": null,
   "id": "4dc340f2",
   "metadata": {},
   "outputs": [],
   "source": [
    "# Closing the driver\n",
    "driver.close()"
   ]
  },
  {
   "cell_type": "markdown",
   "id": "c39255c7",
   "metadata": {},
   "source": [
    "# Part 2 - Scrapping data from Flipkart\n",
    "2.1. I-Phone"
   ]
  },
  {
   "cell_type": "code",
   "execution_count": null,
   "id": "4195f21f",
   "metadata": {},
   "outputs": [],
   "source": [
    "# Connect to web driver\n",
    "\n",
    "driver =webdriver.Chrome(r\"C:\\Users\\hamsa\\AppData\\Local\\Temp\\Temp3_chromedriver_win32.zip\\chromedriver.exe\")"
   ]
  },
  {
   "cell_type": "code",
   "execution_count": null,
   "id": "9447fe7b",
   "metadata": {},
   "outputs": [],
   "source": [
    "#Connect to web driver\n",
    "# Creating an instance of webdriver for google chrome\n",
    "driver = webdriver.Chrome(r\"C:\\Users\\hamsa\\AppData\\Local\\Temp\\Temp3_chromedriver_win32.zip\\chromedriver.exe\")"
   ]
  },
  {
   "cell_type": "code",
   "execution_count": null,
   "id": "b8e45a55",
   "metadata": {},
   "outputs": [],
   "source": [
    "#Getting the website to driver\n",
    "driver.get('https://www.flipkart.com/apple-iphone-11-black-64-gb/product-reviews/itm4e5041ba101fd?pid=MOBFWQ6BXGJCEYNY&lid=LSTMOBFWQ6BXGJCEYNYZXSHRJ&marketplace=FLIPKART')"
   ]
  },
  {
   "cell_type": "code",
   "execution_count": null,
   "id": "6f5285dc",
   "metadata": {},
   "outputs": [],
   "source": [
    "#Taking the empty lists\n",
    "Ratings=[]\n",
    "Review=[]\n",
    "\n",
    "#As there are nearly 10 reviews per page, we will check for 400+ pages and scrap the required data\n",
    "#Now we will take a for loop and scrap\n",
    "for i in range(0,410):\n",
    "    for j in driver.find_elements_by_xpath(\"//div[@class='_3LWZlK _1BLPMq']\"):\n",
    "        Ratings.append(j.text)\n",
    "    for j in driver.find_elements_by_xpath(\"//div[@class='t-ZTKy']\"):\n",
    "        Review.append(j.text)\n",
    "        \n",
    "    #Path for next page as it changes for every page. We are appending numbers as pages change  \n",
    "    k=i+1\n",
    "    next_page=\"https://www.flipkart.com/apple-iphone-11-black-64-gb/product-reviews/itm4e5041ba101fd?pid=MOBFWQ6BXGJCEYNY&lid=LSTMOBFWQ6BXGJCEYNYZXSHRJ&marketplace=FLIPKART&page=\"+str(k) \n",
    "    driver.get(next_page)"
   ]
  },
  {
   "cell_type": "code",
   "execution_count": null,
   "id": "bb508205",
   "metadata": {},
   "outputs": [],
   "source": [
    "#Checking the length of the data scraped\n",
    "print(len(Ratings),len(Review))"
   ]
  },
  {
   "cell_type": "code",
   "execution_count": null,
   "id": "8b2a26fd",
   "metadata": {},
   "outputs": [],
   "source": [
    "#Saving in dataframe\n",
    "f_phones=pd.DataFrame({'Product_Review':Review[:3700],'Ratings':Ratings[:3700]})"
   ]
  },
  {
   "cell_type": "code",
   "execution_count": null,
   "id": "747d0962",
   "metadata": {},
   "outputs": [],
   "source": [
    "#Checking first 5 data of the dataframe\n",
    "f_phones.head()"
   ]
  },
  {
   "cell_type": "code",
   "execution_count": null,
   "id": "68ea84e9",
   "metadata": {},
   "outputs": [],
   "source": [
    "#Checking last 5 data of the dataframe\n",
    "f_phones.tail()"
   ]
  },
  {
   "cell_type": "code",
   "execution_count": null,
   "id": "bfb2d782",
   "metadata": {},
   "outputs": [],
   "source": [
    "#Closing the driver\n",
    "driver.close()"
   ]
  },
  {
   "cell_type": "markdown",
   "id": "25cfca6c",
   "metadata": {},
   "source": [
    "# 2.2. Poco Mobiles"
   ]
  },
  {
   "cell_type": "code",
   "execution_count": null,
   "id": "bd11cd0d",
   "metadata": {},
   "outputs": [],
   "source": [
    "# Connect to web driver\n",
    "driver =webdriver.Chrome(r\"C:\\Users\\hamsa\\AppData\\Local\\Temp\\Temp3_chromedriver_win32.zip\\chromedriver.exe\")\n"
   ]
  },
  {
   "cell_type": "code",
   "execution_count": null,
   "id": "914c742a",
   "metadata": {},
   "outputs": [],
   "source": [
    "# Getting the website to driver\n",
    "driver.get('https://www.flipkart.com/poco-m3-power-black-64-gb/product-reviews/itmb49cc10841be2?pid=MOBFZTCUTAYPJHHR&lid=LSTMOBFZTCUTAYPJHHR2ZVC1N&marketplace=FLIPKART')"
   ]
  },
  {
   "cell_type": "code",
   "execution_count": null,
   "id": "02199a33",
   "metadata": {},
   "outputs": [],
   "source": [
    "#Taking the empty lists\n",
    "Ratings=[]\n",
    "Review=[]\n",
    "\n",
    "#As there are nearly 10 reviews per page, we will check for 400+ pages and scrap the required data\n",
    "#Now we will take a for loop and scrap\n",
    "for i in range(0,650):\n",
    "    for j in driver.find_elements_by_xpath(\"//div[@class='_3LWZlK _1BLPMq']\"):\n",
    "        Ratings.append(j.text)\n",
    "    for j in driver.find_elements_by_xpath(\"//div[@class='t-ZTKy']\"):\n",
    "        Review.append(j.text)\n",
    "        \n",
    "    #Path for next page as it changes for every page. We are appending numbers as pages change  \n",
    "    k=i+1\n",
    "    next_page=\"https://www.flipkart.com/poco-m3-power-black-64-gb/product-reviews/itmb49cc10841be2?pid=MOBFZTCUTAYPJHHR&lid=LSTMOBFZTCUTAYPJHHR2ZVC1N&marketplace=FLIPKART&page=\"+str(k) \n",
    "    driver.get(next_page)"
   ]
  },
  {
   "cell_type": "code",
   "execution_count": null,
   "id": "9890068f",
   "metadata": {},
   "outputs": [],
   "source": [
    "#Checking the length of the data scraped\n",
    "print(len(Review),len(Ratings))"
   ]
  },
  {
   "cell_type": "code",
   "execution_count": null,
   "id": "7c837a7c",
   "metadata": {},
   "outputs": [],
   "source": [
    "#Saving in dataframe\n",
    "f_poco=pd.DataFrame({'Product_Review':Review[:5200],'Ratings':Ratings[:5200]})"
   ]
  },
  {
   "cell_type": "code",
   "execution_count": null,
   "id": "45de257b",
   "metadata": {},
   "outputs": [],
   "source": [
    "#Checking first 5 data of the dataframe\n",
    "f_poco.head()"
   ]
  },
  {
   "cell_type": "code",
   "execution_count": null,
   "id": "b7289415",
   "metadata": {},
   "outputs": [],
   "source": [
    "#Checking last 5 data of the dataframe\n",
    "f_poco.tail()"
   ]
  },
  {
   "cell_type": "code",
   "execution_count": null,
   "id": "8b4888f9",
   "metadata": {},
   "outputs": [],
   "source": [
    "#Closing the driver\n",
    "driver.close()"
   ]
  },
  {
   "cell_type": "markdown",
   "id": "6231b4bf",
   "metadata": {},
   "source": [
    "# 2.3. Routers"
   ]
  },
  {
   "cell_type": "code",
   "execution_count": null,
   "id": "55ae1f4d",
   "metadata": {},
   "outputs": [],
   "source": [
    "# Connect to web driver\n",
    "driver =webdriver.Chrome(r\"C:\\Users\\hamsa\\AppData\\Local\\Temp\\Temp3_chromedriver_win32.zip\\chromedriver.exe\")"
   ]
  },
  {
   "cell_type": "code",
   "execution_count": null,
   "id": "92714f8e",
   "metadata": {},
   "outputs": [],
   "source": [
    "# Getting the website to driver\n",
    "driver.get('https://www.flipkart.com/tp-link-tl-wr841n-300mbps-wireless-n-router/product-reviews/itmf48vgyfyx8m4f?pid=RTRD7HN3JJYF6WN2&lid=LSTRTRD7HN3"
   ]
  },
  {
   "cell_type": "code",
   "execution_count": null,
   "id": "812a790c",
   "metadata": {},
   "outputs": [],
   "source": [
    "#Taking the empty lists\n",
    "Ratings=[]\n",
    "Review=[]\n",
    "\n",
    "#As there are nearly 10 reviews per page, we will check for 400+ pages and scrap the required data\n",
    "#Now we will take a for loop and scrap\n",
    "for i in range(0,150):\n",
    "    for j in driver.find_elements_by_xpath(\"//div[@class='_3LWZlK _1BLPMq']\"):\n",
    "        Ratings.append(j.text)\n",
    "    for j in driver.find_elements_by_xpath(\"//div[@class='t-ZTKy']\"):\n",
    "        Review.append(j.text)\n",
    "        \n",
    "    #Path for next page as it changes for every page. We are appending numbers as pages change  \n",
    "    k=i+1\n",
    "    next_page=\"https://www.flipkart.com/tp-link-tl-wr841n-300mbps-wireless-n-router/product-reviews/itmf48vgyfyx8m4f?pid=RTRD7HN3JJYF6WN2&lid=LSTRTRD7HN3JJYF6WN20ZITXQ&marketplace=FLIPKART&page=\"+str(k) \n",
    "    driver.get(next_page)"
   ]
  },
  {
   "cell_type": "code",
   "execution_count": null,
   "id": "5b8d328b",
   "metadata": {},
   "outputs": [],
   "source": [
    "# Checking the length of the data scraped\n",
    "print(len(Review),len(Ratings))"
   ]
  },
  {
   "cell_type": "code",
   "execution_count": null,
   "id": "3d6cddbe",
   "metadata": {},
   "outputs": [],
   "source": [
    "# Saving in dataframe\n",
    "router=pd.DataFrame({'Product_Review':Review[:1000],'Ratings':Ratings[:1000]})"
   ]
  },
  {
   "cell_type": "code",
   "execution_count": null,
   "id": "b912e578",
   "metadata": {},
   "outputs": [],
   "source": [
    "# Checking first 5 data of the dataframe\n",
    "router.head()"
   ]
  },
  {
   "cell_type": "code",
   "execution_count": null,
   "id": "b2fc9232",
   "metadata": {},
   "outputs": [],
   "source": [
    "# Checking last 5 data of the dataframe\n",
    "router.tail()"
   ]
  },
  {
   "cell_type": "code",
   "execution_count": null,
   "id": "2f609fbe",
   "metadata": {},
   "outputs": [],
   "source": [
    "# Closing the driver\n",
    "driver.close()"
   ]
  },
  {
   "cell_type": "markdown",
   "id": "17584ad5",
   "metadata": {},
   "source": [
    "# Exporting data in CSV file"
   ]
  },
  {
   "cell_type": "code",
   "execution_count": null,
   "id": "0ccb906d",
   "metadata": {},
   "outputs": [],
   "source": [
    "# Combining all dataframes into a single dataframe\n",
    "ratings_data=headphones.append([laptops,camera,phones,f_phones,f_poco,router],ignore_index=True)\n",
    "ratings_data"
   ]
  },
  {
   "cell_type": "code",
   "execution_count": null,
   "id": "17e85ec9",
   "metadata": {},
   "outputs": [],
   "source": [
    "# Saving the data into a csv file\n",
    "ratings_data.to_csv('Rating_Prediction_dataset.csv')"
   ]
  },
  {
   "cell_type": "code",
   "execution_count": null,
   "id": "9b583251",
   "metadata": {},
   "outputs": [],
   "source": []
  },
  {
   "cell_type": "code",
   "execution_count": null,
   "id": "c7f8923d",
   "metadata": {},
   "outputs": [],
   "source": []
  },
  {
   "cell_type": "code",
   "execution_count": null,
   "id": "4c2e5f3e",
   "metadata": {},
   "outputs": [],
   "source": []
  }
 ],
 "metadata": {
  "kernelspec": {
   "display_name": "Python 3 (ipykernel)",
   "language": "python",
   "name": "python3"
  },
  "language_info": {
   "codemirror_mode": {
    "name": "ipython",
    "version": 3
   },
   "file_extension": ".py",
   "mimetype": "text/x-python",
   "name": "python",
   "nbconvert_exporter": "python",
   "pygments_lexer": "ipython3",
   "version": "3.9.7"
  }
 },
 "nbformat": 4,
 "nbformat_minor": 5
}
